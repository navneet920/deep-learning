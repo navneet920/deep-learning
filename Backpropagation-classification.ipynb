{
 "cells": [
  {
   "cell_type": "code",
   "execution_count": 2,
   "id": "147539ff-a1bb-49fd-ba8e-704f21b60c26",
   "metadata": {},
   "outputs": [],
   "source": [
    "import pandas as pd\n",
    "import numpy as np"
   ]
  },
  {
   "cell_type": "code",
   "execution_count": 3,
   "id": "3ee7a493-a3c1-444b-8cce-905e3bd7ab08",
   "metadata": {},
   "outputs": [],
   "source": [
    "df=pd.DataFrame([[8,8,1],[7,9,1],[6,10,0],[5,5,0]],columns=['cgpa','profile_score','placed'])"
   ]
  },
  {
   "cell_type": "code",
   "execution_count": 4,
   "id": "78a13a08-d115-4609-b079-8d56b9acb95a",
   "metadata": {},
   "outputs": [
    {
     "data": {
      "text/html": [
       "<div>\n",
       "<style scoped>\n",
       "    .dataframe tbody tr th:only-of-type {\n",
       "        vertical-align: middle;\n",
       "    }\n",
       "\n",
       "    .dataframe tbody tr th {\n",
       "        vertical-align: top;\n",
       "    }\n",
       "\n",
       "    .dataframe thead th {\n",
       "        text-align: right;\n",
       "    }\n",
       "</style>\n",
       "<table border=\"1\" class=\"dataframe\">\n",
       "  <thead>\n",
       "    <tr style=\"text-align: right;\">\n",
       "      <th></th>\n",
       "      <th>cgpa</th>\n",
       "      <th>profile_score</th>\n",
       "      <th>placed</th>\n",
       "    </tr>\n",
       "  </thead>\n",
       "  <tbody>\n",
       "    <tr>\n",
       "      <th>0</th>\n",
       "      <td>8</td>\n",
       "      <td>8</td>\n",
       "      <td>1</td>\n",
       "    </tr>\n",
       "    <tr>\n",
       "      <th>1</th>\n",
       "      <td>7</td>\n",
       "      <td>9</td>\n",
       "      <td>1</td>\n",
       "    </tr>\n",
       "    <tr>\n",
       "      <th>2</th>\n",
       "      <td>6</td>\n",
       "      <td>10</td>\n",
       "      <td>0</td>\n",
       "    </tr>\n",
       "    <tr>\n",
       "      <th>3</th>\n",
       "      <td>5</td>\n",
       "      <td>5</td>\n",
       "      <td>0</td>\n",
       "    </tr>\n",
       "  </tbody>\n",
       "</table>\n",
       "</div>"
      ],
      "text/plain": [
       "   cgpa  profile_score  placed\n",
       "0     8              8       1\n",
       "1     7              9       1\n",
       "2     6             10       0\n",
       "3     5              5       0"
      ]
     },
     "execution_count": 4,
     "metadata": {},
     "output_type": "execute_result"
    }
   ],
   "source": [
    "df"
   ]
  },
  {
   "cell_type": "code",
   "execution_count": 19,
   "id": "5aeed4df-17fd-459c-a453-df2de79af741",
   "metadata": {},
   "outputs": [],
   "source": [
    "def initialize_parameters(layer_dims):\n",
    "    np.random.seed(3)\n",
    "    parameters={}\n",
    "    L=len(layer_dims)\n",
    "    for l in range(1,L):\n",
    "        parameters['W'+str(l)]=np.ones((layer_dims[l-1],layer_dims[l]))*0.1\n",
    "        parameters['b'+str(l)]=np.zeros((layer_dims[l],1))\n",
    "\n",
    "    return parameters"
   ]
  },
  {
   "cell_type": "code",
   "execution_count": 20,
   "id": "34f3ec3f-9df1-487f-89a6-d8bea1b8846e",
   "metadata": {},
   "outputs": [],
   "source": [
    "# utility function\n",
    "def sigmoid(Z):\n",
    "    A=1/(1+np.exp(-Z))\n",
    "    return A"
   ]
  },
  {
   "cell_type": "code",
   "execution_count": 21,
   "id": "bdd5a7a7-5872-4d76-8611-69b29e5d7f69",
   "metadata": {},
   "outputs": [],
   "source": [
    "def linear_forward(A_prev,W,b):\n",
    "    Z=np.dot(W.T,A_prev) + b\n",
    "    A=sigmoid(Z)\n",
    "    return A"
   ]
  },
  {
   "cell_type": "code",
   "execution_count": 22,
   "id": "dae12f44-2541-4196-8ac2-2a7dc62a9e57",
   "metadata": {},
   "outputs": [],
   "source": [
    "# L-layer feed forward\n",
    "def L_layer_forward(X,parameters):\n",
    "    A=X\n",
    "    L=len(parameters)//2\n",
    "\n",
    "    for l in range(1,L+1):\n",
    "        A_prev=A\n",
    "        W1=parameters['W'+str(l)]\n",
    "        b1=parameters['b'+str(l)]\n",
    "\n",
    "\n",
    "        A=linear_forward(A_prev,W1,b1)\n",
    "    return A,A_prev\n",
    "    "
   ]
  },
  {
   "cell_type": "code",
   "execution_count": 23,
   "id": "b71142ae-940a-4a1b-92bf-3151b27526ff",
   "metadata": {},
   "outputs": [],
   "source": [
    "def update_parameters(parameters,y,y_hat,A1,X):\n",
    "    parameters['W2'][0][0]=parameters['W2'][0][0] + (0.0001*(y-y_hat)*A1[0][0])\n",
    "    parameters['W2'][1][0]=parameters['W2'][1][0] + (0.0001*(y-y_hat)*A1[1][0])\n",
    "    parameters['b2'][0][0]=parameters['b2'][0][0] + (0.0001*(y-y_hat))\n",
    "\n",
    "    parameters['W1'][0][0]=parameters['W1'][0][0] + (0.0001*(y-y_hat)*parameters['W2'][0][0]*A1[0][0]*(1-A1[0][0])*X[0][0])\n",
    "    parameters['W1'][0][1]=parameters['W1'][0][1] + (0.0001*(y-y_hat)*parameters['W2'][0][0]*A1[0][0]*(1-A1[0][0])*X[1][0])\n",
    "    parameters['b1'][0][0]=parameters['b1'][0][0] + (0.0001*(y-y_hat)*parameters['W2'][0][0]*A1[0][0]*(1-A1[0][0]))\n",
    "\n",
    "    parameters['W1'][1][0]=parameters['W1'][1][0] + (0.0001*(y-y_hat)*parameters['W2'][1][0]*A1[1][0]*(1-A1[1][0])*X[0][0])\n",
    "    parameters['W1'][1][1]=parameters['W1'][1][1] + (0.0001*(y-y_hat)*parameters['W2'][1][0]*A1[1][0]*(1-A1[1][0])*X[1][0])\n",
    "    parameters['b1'][1][0]=parameters['b1'][1][0] + (0.0001*(y-y_hat)*parameters['W2'][1][0]*A1[1][0]*(1-A1[1][0]))"
   ]
  },
  {
   "cell_type": "code",
   "execution_count": 24,
   "id": "27e9ac4e-d2b2-48aa-8c5e-8343b7ae280c",
   "metadata": {},
   "outputs": [],
   "source": [
    "X=df[['cgpa','profile_score']].values[0].reshape(2,1)\n",
    "y=df[['placed']].values[0][0]"
   ]
  },
  {
   "cell_type": "code",
   "execution_count": 25,
   "id": "d6e6b0e5-ec93-41fc-b41a-2140484890a6",
   "metadata": {},
   "outputs": [],
   "source": [
    "parameters=initialize_parameters([2,2,1])\n",
    "y_hat,A1=L_layer_forward(X,parameters)\n",
    "y_hat=y_hat[0][0]\n",
    "update_parameters(parameters,y,y_hat,A1,X)"
   ]
  },
  {
   "cell_type": "code",
   "execution_count": 26,
   "id": "a1e64507-2a1b-4e41-996f-a0cf8a3ffee5",
   "metadata": {},
   "outputs": [
    {
     "data": {
      "text/plain": [
       "np.float64(0.613402628898913)"
      ]
     },
     "execution_count": 26,
     "metadata": {},
     "output_type": "execute_result"
    }
   ],
   "source": [
    "-y*np.log(y_hat)-(1-y)*np.log(1-y_hat)"
   ]
  },
  {
   "cell_type": "code",
   "execution_count": 27,
   "id": "bb5d63f6-e1de-4a01-b0e2-c909528595bc",
   "metadata": {},
   "outputs": [
    {
     "data": {
      "text/plain": [
       "{'W1': array([[0.10000513, 0.10000513],\n",
       "        [0.10000513, 0.10000513]]),\n",
       " 'b1': array([[6.41054186e-07],\n",
       "        [6.41054186e-07]]),\n",
       " 'W2': array([[0.10003815],\n",
       "        [0.10003815]]),\n",
       " 'b2': array([[4.5849481e-05]])}"
      ]
     },
     "execution_count": 27,
     "metadata": {},
     "output_type": "execute_result"
    }
   ],
   "source": [
    "parameters"
   ]
  },
  {
   "cell_type": "code",
   "execution_count": 28,
   "id": "dd0afe1e-8162-4167-b0ec-e4373dea812a",
   "metadata": {},
   "outputs": [
    {
     "data": {
      "text/plain": [
       "np.float64(0.5415051895671072)"
      ]
     },
     "execution_count": 28,
     "metadata": {},
     "output_type": "execute_result"
    }
   ],
   "source": [
    "y_hat"
   ]
  },
  {
   "cell_type": "code",
   "execution_count": 29,
   "id": "f8fc2ab4-835f-4c68-b450-d13dffc22ccd",
   "metadata": {},
   "outputs": [
    {
     "data": {
      "text/plain": [
       "array([[0.83201839],\n",
       "       [0.83201839]])"
      ]
     },
     "execution_count": 29,
     "metadata": {},
     "output_type": "execute_result"
    }
   ],
   "source": [
    "A1"
   ]
  },
  {
   "cell_type": "markdown",
   "id": "d3bc0120-ecfc-4054-a2ff-e05be5413da4",
   "metadata": {},
   "source": [
    "#### epoch implementation"
   ]
  },
  {
   "cell_type": "code",
   "execution_count": 33,
   "id": "125c6cd2-cb3a-48a6-966e-e892becdfa09",
   "metadata": {},
   "outputs": [
    {
     "name": "stdout",
     "output_type": "stream",
     "text": [
      "Epoch- 1 loss- 0.6939124309994983\n",
      "Epoch- 2 loss- 0.6939114509742006\n",
      "Epoch- 3 loss- 0.6939104713855384\n",
      "Epoch- 4 loss- 0.6939094922333021\n",
      "Epoch- 5 loss- 0.6939085135172819\n",
      "Epoch- 6 loss- 0.6939075352372682\n",
      "Epoch- 7 loss- 0.6939065573930516\n",
      "Epoch- 8 loss- 0.6939055799844227\n",
      "Epoch- 9 loss- 0.6939046030111722\n",
      "Epoch- 10 loss- 0.693903626473091\n",
      "Epoch- 11 loss- 0.6939026503699699\n",
      "Epoch- 12 loss- 0.6939016747016002\n",
      "Epoch- 13 loss- 0.6939006994677729\n",
      "Epoch- 14 loss- 0.6938997246682792\n",
      "Epoch- 15 loss- 0.6938987503029107\n",
      "Epoch- 16 loss- 0.6938977763714584\n",
      "Epoch- 17 loss- 0.6938968028737142\n",
      "Epoch- 18 loss- 0.6938958298094697\n",
      "Epoch- 19 loss- 0.6938948571785166\n",
      "Epoch- 20 loss- 0.6938938849806471\n",
      "Epoch- 21 loss- 0.6938929132156526\n",
      "Epoch- 22 loss- 0.6938919418833256\n",
      "Epoch- 23 loss- 0.693890970983458\n",
      "Epoch- 24 loss- 0.6938900005158424\n",
      "Epoch- 25 loss- 0.6938890304802711\n",
      "Epoch- 26 loss- 0.6938880608765363\n",
      "Epoch- 27 loss- 0.6938870917044309\n",
      "Epoch- 28 loss- 0.6938861229637474\n",
      "Epoch- 29 loss- 0.6938851546542789\n",
      "Epoch- 30 loss- 0.6938841867758179\n",
      "Epoch- 31 loss- 0.6938832193281578\n",
      "Epoch- 32 loss- 0.6938822523110912\n",
      "Epoch- 33 loss- 0.6938812857244119\n",
      "Epoch- 34 loss- 0.6938803195679129\n",
      "Epoch- 35 loss- 0.6938793538413873\n",
      "Epoch- 36 loss- 0.6938783885446289\n",
      "Epoch- 37 loss- 0.6938774236774317\n",
      "Epoch- 38 loss- 0.693876459239589\n",
      "Epoch- 39 loss- 0.6938754952308946\n",
      "Epoch- 40 loss- 0.6938745316511425\n",
      "Epoch- 41 loss- 0.6938735685001267\n",
      "Epoch- 42 loss- 0.6938726057776414\n",
      "Epoch- 43 loss- 0.6938716434834808\n",
      "Epoch- 44 loss- 0.6938706816174391\n",
      "Epoch- 45 loss- 0.693869720179311\n",
      "Epoch- 46 loss- 0.6938687591688908\n",
      "Epoch- 47 loss- 0.6938677985859731\n",
      "Epoch- 48 loss- 0.693866838430353\n",
      "Epoch- 49 loss- 0.6938658787018248\n",
      "Epoch- 50 loss- 0.6938649194001839\n",
      "Epoch- 51 loss- 0.693863960525225\n",
      "Epoch- 52 loss- 0.6938630020767436\n",
      "Epoch- 53 loss- 0.6938620440545348\n",
      "Epoch- 54 loss- 0.6938610864583935\n",
      "Epoch- 55 loss- 0.6938601292881158\n",
      "Epoch- 56 loss- 0.693859172543497\n",
      "Epoch- 57 loss- 0.6938582162243325\n",
      "Epoch- 58 loss- 0.6938572603304185\n",
      "Epoch- 59 loss- 0.6938563048615507\n",
      "Epoch- 60 loss- 0.6938553498175248\n",
      "Epoch- 61 loss- 0.6938543951981371\n",
      "Epoch- 62 loss- 0.6938534410031836\n",
      "Epoch- 63 loss- 0.6938524872324607\n",
      "Epoch- 64 loss- 0.6938515338857647\n",
      "Epoch- 65 loss- 0.6938505809628922\n",
      "Epoch- 66 loss- 0.6938496284636393\n",
      "Epoch- 67 loss- 0.693848676387803\n",
      "Epoch- 68 loss- 0.6938477247351801\n",
      "Epoch- 69 loss- 0.6938467735055676\n",
      "Epoch- 70 loss- 0.6938458226987619\n",
      "Epoch- 71 loss- 0.6938448723145605\n",
      "Epoch- 72 loss- 0.6938439223527605\n",
      "Epoch- 73 loss- 0.6938429728131591\n",
      "Epoch- 74 loss- 0.6938420236955536\n",
      "Epoch- 75 loss- 0.6938410749997416\n",
      "Epoch- 76 loss- 0.6938401267255205\n",
      "Epoch- 77 loss- 0.6938391788726882\n",
      "Epoch- 78 loss- 0.6938382314410422\n",
      "Epoch- 79 loss- 0.6938372844303805\n",
      "Epoch- 80 loss- 0.693836337840501\n",
      "Epoch- 81 loss- 0.6938353916712019\n",
      "Epoch- 82 loss- 0.6938344459222812\n",
      "Epoch- 83 loss- 0.693833500593537\n",
      "Epoch- 84 loss- 0.6938325556847681\n",
      "Epoch- 85 loss- 0.6938316111957727\n",
      "Epoch- 86 loss- 0.6938306671263494\n",
      "Epoch- 87 loss- 0.6938297234762968\n",
      "Epoch- 88 loss- 0.6938287802454137\n",
      "Epoch- 89 loss- 0.6938278374334989\n",
      "Epoch- 90 loss- 0.6938268950403516\n",
      "Epoch- 91 loss- 0.6938259530657704\n",
      "Epoch- 92 loss- 0.693825011509555\n",
      "Epoch- 93 loss- 0.6938240703715043\n",
      "Epoch- 94 loss- 0.6938231296514175\n",
      "Epoch- 95 loss- 0.6938221893490946\n",
      "Epoch- 96 loss- 0.6938212494643348\n",
      "Epoch- 97 loss- 0.6938203099969376\n",
      "Epoch- 98 loss- 0.6938193709467031\n",
      "Epoch- 99 loss- 0.6938184323134309\n",
      "Epoch- 100 loss- 0.6938174940969212\n"
     ]
    }
   ],
   "source": [
    "parameters=initialize_parameters([2,2,1])\n",
    "epochs=100\n",
    "for i in range(epochs):\n",
    "    Loss=[]\n",
    "    for j in range(df.shape[0]):\n",
    "        X=df[['cgpa','profile_score']].values[j].reshape(2,1)\n",
    "        y=df[['placed']].values[j][0].item()\n",
    "\n",
    "        y_hat,A1=L_layer_forward(X,parameters)\n",
    "        y_hat=y_hat[0][0]\n",
    "\n",
    "        update_parameters(parameters,y,y_hat,A1,X)\n",
    "        Loss.append((-y*np.log(y_hat)-(1-y)*np.log(1-y_hat)))\n",
    "    print('Epoch-',i+1,'loss-',np.array(Loss).mean())"
   ]
  },
  {
   "cell_type": "code",
   "execution_count": 34,
   "id": "37234617-9ee9-4021-86ea-e5860f159b5a",
   "metadata": {},
   "outputs": [
    {
     "data": {
      "text/plain": [
       "{'W1': array([[0.09998161, 0.09980799],\n",
       "        [0.09998186, 0.0998081 ]]),\n",
       " 'b1': array([[-5.25243134e-05],\n",
       "        [-5.25178867e-05]]),\n",
       " 'W2': array([[0.09921275],\n",
       "        [0.09921293]]),\n",
       " 'b2': array([[-0.00159669]])}"
      ]
     },
     "execution_count": 34,
     "metadata": {},
     "output_type": "execute_result"
    }
   ],
   "source": [
    "parameters"
   ]
  },
  {
   "cell_type": "markdown",
   "id": "c5b21928-aa1c-4a7c-8bf2-ec81ee234225",
   "metadata": {},
   "source": [
    "# keras Implementation"
   ]
  },
  {
   "cell_type": "code",
   "execution_count": 35,
   "id": "eaf52ea7-66e6-467f-b536-28f9092d6b0a",
   "metadata": {},
   "outputs": [],
   "source": [
    "import tensorflow\n",
    "from tensorflow import keras\n",
    "from keras import Sequential\n",
    "from keras.layers import Dense"
   ]
  },
  {
   "cell_type": "code",
   "execution_count": 36,
   "id": "566605f0-2254-4d2a-95df-f625c596a93d",
   "metadata": {},
   "outputs": [],
   "source": [
    "model=Sequential()"
   ]
  },
  {
   "cell_type": "code",
   "execution_count": 37,
   "id": "21bfc0b1-c4b9-460e-a52a-28eb283a663f",
   "metadata": {},
   "outputs": [
    {
     "name": "stderr",
     "output_type": "stream",
     "text": [
      "C:\\Users\\Navneet\\AppData\\Roaming\\Python\\Python313\\site-packages\\keras\\src\\layers\\core\\dense.py:92: UserWarning: Do not pass an `input_shape`/`input_dim` argument to a layer. When using Sequential models, prefer using an `Input(shape)` object as the first layer in the model instead.\n",
      "  super().__init__(activity_regularizer=activity_regularizer, **kwargs)\n"
     ]
    }
   ],
   "source": [
    "model.add(Dense(2,activation='sigmoid',input_dim=2))\n",
    "model.add(Dense(1,activation='sigmoid'))"
   ]
  },
  {
   "cell_type": "code",
   "execution_count": 38,
   "id": "8d687175-525b-4b3b-99c6-50061506f650",
   "metadata": {},
   "outputs": [
    {
     "data": {
      "text/html": [
       "<pre style=\"white-space:pre;overflow-x:auto;line-height:normal;font-family:Menlo,'DejaVu Sans Mono',consolas,'Courier New',monospace\"><span style=\"font-weight: bold\">Model: \"sequential\"</span>\n",
       "</pre>\n"
      ],
      "text/plain": [
       "\u001b[1mModel: \"sequential\"\u001b[0m\n"
      ]
     },
     "metadata": {},
     "output_type": "display_data"
    },
    {
     "data": {
      "text/html": [
       "<pre style=\"white-space:pre;overflow-x:auto;line-height:normal;font-family:Menlo,'DejaVu Sans Mono',consolas,'Courier New',monospace\">┏━━━━━━━━━━━━━━━━━━━━━━━━━━━━━━━━━━━━━━┳━━━━━━━━━━━━━━━━━━━━━━━━━━━━━┳━━━━━━━━━━━━━━━━━┓\n",
       "┃<span style=\"font-weight: bold\"> Layer (type)                         </span>┃<span style=\"font-weight: bold\"> Output Shape                </span>┃<span style=\"font-weight: bold\">         Param # </span>┃\n",
       "┡━━━━━━━━━━━━━━━━━━━━━━━━━━━━━━━━━━━━━━╇━━━━━━━━━━━━━━━━━━━━━━━━━━━━━╇━━━━━━━━━━━━━━━━━┩\n",
       "│ dense (<span style=\"color: #0087ff; text-decoration-color: #0087ff\">Dense</span>)                        │ (<span style=\"color: #00d7ff; text-decoration-color: #00d7ff\">None</span>, <span style=\"color: #00af00; text-decoration-color: #00af00\">2</span>)                   │               <span style=\"color: #00af00; text-decoration-color: #00af00\">6</span> │\n",
       "├──────────────────────────────────────┼─────────────────────────────┼─────────────────┤\n",
       "│ dense_1 (<span style=\"color: #0087ff; text-decoration-color: #0087ff\">Dense</span>)                      │ (<span style=\"color: #00d7ff; text-decoration-color: #00d7ff\">None</span>, <span style=\"color: #00af00; text-decoration-color: #00af00\">1</span>)                   │               <span style=\"color: #00af00; text-decoration-color: #00af00\">3</span> │\n",
       "└──────────────────────────────────────┴─────────────────────────────┴─────────────────┘\n",
       "</pre>\n"
      ],
      "text/plain": [
       "┏━━━━━━━━━━━━━━━━━━━━━━━━━━━━━━━━━━━━━━┳━━━━━━━━━━━━━━━━━━━━━━━━━━━━━┳━━━━━━━━━━━━━━━━━┓\n",
       "┃\u001b[1m \u001b[0m\u001b[1mLayer (type)                        \u001b[0m\u001b[1m \u001b[0m┃\u001b[1m \u001b[0m\u001b[1mOutput Shape               \u001b[0m\u001b[1m \u001b[0m┃\u001b[1m \u001b[0m\u001b[1m        Param #\u001b[0m\u001b[1m \u001b[0m┃\n",
       "┡━━━━━━━━━━━━━━━━━━━━━━━━━━━━━━━━━━━━━━╇━━━━━━━━━━━━━━━━━━━━━━━━━━━━━╇━━━━━━━━━━━━━━━━━┩\n",
       "│ dense (\u001b[38;5;33mDense\u001b[0m)                        │ (\u001b[38;5;45mNone\u001b[0m, \u001b[38;5;34m2\u001b[0m)                   │               \u001b[38;5;34m6\u001b[0m │\n",
       "├──────────────────────────────────────┼─────────────────────────────┼─────────────────┤\n",
       "│ dense_1 (\u001b[38;5;33mDense\u001b[0m)                      │ (\u001b[38;5;45mNone\u001b[0m, \u001b[38;5;34m1\u001b[0m)                   │               \u001b[38;5;34m3\u001b[0m │\n",
       "└──────────────────────────────────────┴─────────────────────────────┴─────────────────┘\n"
      ]
     },
     "metadata": {},
     "output_type": "display_data"
    },
    {
     "data": {
      "text/html": [
       "<pre style=\"white-space:pre;overflow-x:auto;line-height:normal;font-family:Menlo,'DejaVu Sans Mono',consolas,'Courier New',monospace\"><span style=\"font-weight: bold\"> Total params: </span><span style=\"color: #00af00; text-decoration-color: #00af00\">9</span> (36.00 B)\n",
       "</pre>\n"
      ],
      "text/plain": [
       "\u001b[1m Total params: \u001b[0m\u001b[38;5;34m9\u001b[0m (36.00 B)\n"
      ]
     },
     "metadata": {},
     "output_type": "display_data"
    },
    {
     "data": {
      "text/html": [
       "<pre style=\"white-space:pre;overflow-x:auto;line-height:normal;font-family:Menlo,'DejaVu Sans Mono',consolas,'Courier New',monospace\"><span style=\"font-weight: bold\"> Trainable params: </span><span style=\"color: #00af00; text-decoration-color: #00af00\">9</span> (36.00 B)\n",
       "</pre>\n"
      ],
      "text/plain": [
       "\u001b[1m Trainable params: \u001b[0m\u001b[38;5;34m9\u001b[0m (36.00 B)\n"
      ]
     },
     "metadata": {},
     "output_type": "display_data"
    },
    {
     "data": {
      "text/html": [
       "<pre style=\"white-space:pre;overflow-x:auto;line-height:normal;font-family:Menlo,'DejaVu Sans Mono',consolas,'Courier New',monospace\"><span style=\"font-weight: bold\"> Non-trainable params: </span><span style=\"color: #00af00; text-decoration-color: #00af00\">0</span> (0.00 B)\n",
       "</pre>\n"
      ],
      "text/plain": [
       "\u001b[1m Non-trainable params: \u001b[0m\u001b[38;5;34m0\u001b[0m (0.00 B)\n"
      ]
     },
     "metadata": {},
     "output_type": "display_data"
    }
   ],
   "source": [
    "model.summary()"
   ]
  },
  {
   "cell_type": "code",
   "execution_count": 40,
   "id": "19151659-fef4-4223-87e8-16a103c11bc9",
   "metadata": {},
   "outputs": [
    {
     "data": {
      "text/plain": [
       "[array([[ 0.9225973 , -0.50131565],\n",
       "        [-0.5375452 ,  1.2123495 ]], dtype=float32),\n",
       " array([0., 0.], dtype=float32),\n",
       " array([[-0.69913054],\n",
       "        [-0.15216565]], dtype=float32),\n",
       " array([0.], dtype=float32)]"
      ]
     },
     "execution_count": 40,
     "metadata": {},
     "output_type": "execute_result"
    }
   ],
   "source": [
    "model.get_weights()"
   ]
  },
  {
   "cell_type": "code",
   "execution_count": 42,
   "id": "cf04399f-162d-4ea1-9fed-7878a483fa79",
   "metadata": {},
   "outputs": [],
   "source": [
    "new_weights=[np.array([[0.1,0.1],\n",
    "                      [0.1,0.1]],dtype=np.float32),\n",
    "            np.array([0.,0.],dtype=np.float32),\n",
    "             np.array([[0.1],[0.1]],dtype=np.float32),\n",
    "             np.array([0.],dtype=np.float32)\n",
    "            ]"
   ]
  },
  {
   "cell_type": "code",
   "execution_count": 43,
   "id": "ca63b31e-0598-4866-8d3c-9dea0ac33c0b",
   "metadata": {},
   "outputs": [],
   "source": [
    "model.set_weights(new_weights)"
   ]
  },
  {
   "cell_type": "code",
   "execution_count": 44,
   "id": "05c57c40-32d7-4499-8dc5-d7e38be59889",
   "metadata": {},
   "outputs": [
    {
     "data": {
      "text/plain": [
       "[array([[0.1, 0.1],\n",
       "        [0.1, 0.1]], dtype=float32),\n",
       " array([0., 0.], dtype=float32),\n",
       " array([[0.1],\n",
       "        [0.1]], dtype=float32),\n",
       " array([0.], dtype=float32)]"
      ]
     },
     "execution_count": 44,
     "metadata": {},
     "output_type": "execute_result"
    }
   ],
   "source": [
    "model.get_weights()"
   ]
  },
  {
   "cell_type": "code",
   "execution_count": 45,
   "id": "17284f76-1431-4475-a921-8df1f99bd4f9",
   "metadata": {},
   "outputs": [],
   "source": [
    "optimizer=keras.optimizers.Adam(learning_rate=0.001)\n",
    "model.compile(loss='binary_crossentropy',optimizer=optimizer)"
   ]
  },
  {
   "cell_type": "code",
   "execution_count": 48,
   "id": "c145b4c9-19ad-48ff-b8d7-3fca6802948c",
   "metadata": {},
   "outputs": [
    {
     "name": "stdout",
     "output_type": "stream",
     "text": [
      "Epoch 1/50\n",
      "\u001b[1m4/4\u001b[0m \u001b[32m━━━━━━━━━━━━━━━━━━━━\u001b[0m\u001b[37m\u001b[0m \u001b[1m2s\u001b[0m 20ms/step - loss: 0.6944\n",
      "Epoch 2/50\n",
      "\u001b[1m4/4\u001b[0m \u001b[32m━━━━━━━━━━━━━━━━━━━━\u001b[0m\u001b[37m\u001b[0m \u001b[1m0s\u001b[0m 14ms/step - loss: 0.6942\n",
      "Epoch 3/50\n",
      "\u001b[1m4/4\u001b[0m \u001b[32m━━━━━━━━━━━━━━━━━━━━\u001b[0m\u001b[37m\u001b[0m \u001b[1m0s\u001b[0m 14ms/step - loss: 0.6938\n",
      "Epoch 4/50\n",
      "\u001b[1m4/4\u001b[0m \u001b[32m━━━━━━━━━━━━━━━━━━━━\u001b[0m\u001b[37m\u001b[0m \u001b[1m0s\u001b[0m 18ms/step - loss: 0.6938\n",
      "Epoch 5/50\n",
      "\u001b[1m4/4\u001b[0m \u001b[32m━━━━━━━━━━━━━━━━━━━━\u001b[0m\u001b[37m\u001b[0m \u001b[1m0s\u001b[0m 14ms/step - loss: 0.6937\n",
      "Epoch 6/50\n",
      "\u001b[1m4/4\u001b[0m \u001b[32m━━━━━━━━━━━━━━━━━━━━\u001b[0m\u001b[37m\u001b[0m \u001b[1m0s\u001b[0m 14ms/step - loss: 0.6937\n",
      "Epoch 7/50\n",
      "\u001b[1m4/4\u001b[0m \u001b[32m━━━━━━━━━━━━━━━━━━━━\u001b[0m\u001b[37m\u001b[0m \u001b[1m0s\u001b[0m 14ms/step - loss: 0.6939\n",
      "Epoch 8/50\n",
      "\u001b[1m4/4\u001b[0m \u001b[32m━━━━━━━━━━━━━━━━━━━━\u001b[0m\u001b[37m\u001b[0m \u001b[1m0s\u001b[0m 16ms/step - loss: 0.6938\n",
      "Epoch 9/50\n",
      "\u001b[1m4/4\u001b[0m \u001b[32m━━━━━━━━━━━━━━━━━━━━\u001b[0m\u001b[37m\u001b[0m \u001b[1m0s\u001b[0m 13ms/step - loss: 0.6939\n",
      "Epoch 10/50\n",
      "\u001b[1m4/4\u001b[0m \u001b[32m━━━━━━━━━━━━━━━━━━━━\u001b[0m\u001b[37m\u001b[0m \u001b[1m0s\u001b[0m 13ms/step - loss: 0.6936\n",
      "Epoch 11/50\n",
      "\u001b[1m4/4\u001b[0m \u001b[32m━━━━━━━━━━━━━━━━━━━━\u001b[0m\u001b[37m\u001b[0m \u001b[1m0s\u001b[0m 29ms/step - loss: 0.6937 \n",
      "Epoch 12/50\n",
      "\u001b[1m4/4\u001b[0m \u001b[32m━━━━━━━━━━━━━━━━━━━━\u001b[0m\u001b[37m\u001b[0m \u001b[1m0s\u001b[0m 24ms/step - loss: 0.6936\n",
      "Epoch 13/50\n",
      "\u001b[1m4/4\u001b[0m \u001b[32m━━━━━━━━━━━━━━━━━━━━\u001b[0m\u001b[37m\u001b[0m \u001b[1m0s\u001b[0m 22ms/step - loss: 0.6936\n",
      "Epoch 14/50\n",
      "\u001b[1m4/4\u001b[0m \u001b[32m━━━━━━━━━━━━━━━━━━━━\u001b[0m\u001b[37m\u001b[0m \u001b[1m0s\u001b[0m 16ms/step - loss: 0.6935\n",
      "Epoch 15/50\n",
      "\u001b[1m4/4\u001b[0m \u001b[32m━━━━━━━━━━━━━━━━━━━━\u001b[0m\u001b[37m\u001b[0m \u001b[1m0s\u001b[0m 15ms/step - loss: 0.6935\n",
      "Epoch 16/50\n",
      "\u001b[1m4/4\u001b[0m \u001b[32m━━━━━━━━━━━━━━━━━━━━\u001b[0m\u001b[37m\u001b[0m \u001b[1m0s\u001b[0m 14ms/step - loss: 0.6935\n",
      "Epoch 17/50\n",
      "\u001b[1m4/4\u001b[0m \u001b[32m━━━━━━━━━━━━━━━━━━━━\u001b[0m\u001b[37m\u001b[0m \u001b[1m0s\u001b[0m 13ms/step - loss: 0.6935\n",
      "Epoch 18/50\n",
      "\u001b[1m4/4\u001b[0m \u001b[32m━━━━━━━━━━━━━━━━━━━━\u001b[0m\u001b[37m\u001b[0m \u001b[1m0s\u001b[0m 15ms/step - loss: 0.6935\n",
      "Epoch 19/50\n",
      "\u001b[1m4/4\u001b[0m \u001b[32m━━━━━━━━━━━━━━━━━━━━\u001b[0m\u001b[37m\u001b[0m \u001b[1m0s\u001b[0m 38ms/step - loss: 0.6934 \n",
      "Epoch 20/50\n",
      "\u001b[1m4/4\u001b[0m \u001b[32m━━━━━━━━━━━━━━━━━━━━\u001b[0m\u001b[37m\u001b[0m \u001b[1m0s\u001b[0m 40ms/step - loss: 0.6935 \n",
      "Epoch 21/50\n",
      "\u001b[1m4/4\u001b[0m \u001b[32m━━━━━━━━━━━━━━━━━━━━\u001b[0m\u001b[37m\u001b[0m \u001b[1m0s\u001b[0m 22ms/step - loss: 0.6934\n",
      "Epoch 22/50\n",
      "\u001b[1m4/4\u001b[0m \u001b[32m━━━━━━━━━━━━━━━━━━━━\u001b[0m\u001b[37m\u001b[0m \u001b[1m0s\u001b[0m 17ms/step - loss: 0.6934\n",
      "Epoch 23/50\n",
      "\u001b[1m4/4\u001b[0m \u001b[32m━━━━━━━━━━━━━━━━━━━━\u001b[0m\u001b[37m\u001b[0m \u001b[1m0s\u001b[0m 16ms/step - loss: 0.6933 \n",
      "Epoch 24/50\n",
      "\u001b[1m4/4\u001b[0m \u001b[32m━━━━━━━━━━━━━━━━━━━━\u001b[0m\u001b[37m\u001b[0m \u001b[1m0s\u001b[0m 30ms/step - loss: 0.6933 \n",
      "Epoch 25/50\n",
      "\u001b[1m4/4\u001b[0m \u001b[32m━━━━━━━━━━━━━━━━━━━━\u001b[0m\u001b[37m\u001b[0m \u001b[1m0s\u001b[0m 17ms/step - loss: 0.6933\n",
      "Epoch 26/50\n",
      "\u001b[1m4/4\u001b[0m \u001b[32m━━━━━━━━━━━━━━━━━━━━\u001b[0m\u001b[37m\u001b[0m \u001b[1m0s\u001b[0m 16ms/step - loss: 0.6933\n",
      "Epoch 27/50\n",
      "\u001b[1m4/4\u001b[0m \u001b[32m━━━━━━━━━━━━━━━━━━━━\u001b[0m\u001b[37m\u001b[0m \u001b[1m0s\u001b[0m 13ms/step - loss: 0.6933\n",
      "Epoch 28/50\n",
      "\u001b[1m4/4\u001b[0m \u001b[32m━━━━━━━━━━━━━━━━━━━━\u001b[0m\u001b[37m\u001b[0m \u001b[1m0s\u001b[0m 33ms/step - loss: 0.6935 \n",
      "Epoch 29/50\n",
      "\u001b[1m4/4\u001b[0m \u001b[32m━━━━━━━━━━━━━━━━━━━━\u001b[0m\u001b[37m\u001b[0m \u001b[1m0s\u001b[0m 25ms/step - loss: 0.6933\n",
      "Epoch 30/50\n",
      "\u001b[1m4/4\u001b[0m \u001b[32m━━━━━━━━━━━━━━━━━━━━\u001b[0m\u001b[37m\u001b[0m \u001b[1m0s\u001b[0m 16ms/step - loss: 0.6933\n",
      "Epoch 31/50\n",
      "\u001b[1m4/4\u001b[0m \u001b[32m━━━━━━━━━━━━━━━━━━━━\u001b[0m\u001b[37m\u001b[0m \u001b[1m0s\u001b[0m 17ms/step - loss: 0.6933 \n",
      "Epoch 32/50\n",
      "\u001b[1m4/4\u001b[0m \u001b[32m━━━━━━━━━━━━━━━━━━━━\u001b[0m\u001b[37m\u001b[0m \u001b[1m0s\u001b[0m 33ms/step - loss: 0.6932 \n",
      "Epoch 33/50\n",
      "\u001b[1m4/4\u001b[0m \u001b[32m━━━━━━━━━━━━━━━━━━━━\u001b[0m\u001b[37m\u001b[0m \u001b[1m0s\u001b[0m 19ms/step - loss: 0.6932\n",
      "Epoch 34/50\n",
      "\u001b[1m4/4\u001b[0m \u001b[32m━━━━━━━━━━━━━━━━━━━━\u001b[0m\u001b[37m\u001b[0m \u001b[1m0s\u001b[0m 21ms/step - loss: 0.6931\n",
      "Epoch 35/50\n",
      "\u001b[1m4/4\u001b[0m \u001b[32m━━━━━━━━━━━━━━━━━━━━\u001b[0m\u001b[37m\u001b[0m \u001b[1m0s\u001b[0m 14ms/step - loss: 0.6932\n",
      "Epoch 36/50\n",
      "\u001b[1m4/4\u001b[0m \u001b[32m━━━━━━━━━━━━━━━━━━━━\u001b[0m\u001b[37m\u001b[0m \u001b[1m0s\u001b[0m 33ms/step - loss: 0.6932 \n",
      "Epoch 37/50\n",
      "\u001b[1m4/4\u001b[0m \u001b[32m━━━━━━━━━━━━━━━━━━━━\u001b[0m\u001b[37m\u001b[0m \u001b[1m0s\u001b[0m 16ms/step - loss: 0.6932\n",
      "Epoch 38/50\n",
      "\u001b[1m4/4\u001b[0m \u001b[32m━━━━━━━━━━━━━━━━━━━━\u001b[0m\u001b[37m\u001b[0m \u001b[1m0s\u001b[0m 17ms/step - loss: 0.6931\n",
      "Epoch 39/50\n",
      "\u001b[1m4/4\u001b[0m \u001b[32m━━━━━━━━━━━━━━━━━━━━\u001b[0m\u001b[37m\u001b[0m \u001b[1m0s\u001b[0m 16ms/step - loss: 0.6931 \n",
      "Epoch 40/50\n",
      "\u001b[1m4/4\u001b[0m \u001b[32m━━━━━━━━━━━━━━━━━━━━\u001b[0m\u001b[37m\u001b[0m \u001b[1m0s\u001b[0m 14ms/step - loss: 0.6930\n",
      "Epoch 41/50\n",
      "\u001b[1m4/4\u001b[0m \u001b[32m━━━━━━━━━━━━━━━━━━━━\u001b[0m\u001b[37m\u001b[0m \u001b[1m0s\u001b[0m 15ms/step - loss: 0.6930\n",
      "Epoch 42/50\n",
      "\u001b[1m4/4\u001b[0m \u001b[32m━━━━━━━━━━━━━━━━━━━━\u001b[0m\u001b[37m\u001b[0m \u001b[1m0s\u001b[0m 36ms/step - loss: 0.6931 \n",
      "Epoch 43/50\n",
      "\u001b[1m4/4\u001b[0m \u001b[32m━━━━━━━━━━━━━━━━━━━━\u001b[0m\u001b[37m\u001b[0m \u001b[1m0s\u001b[0m 38ms/step - loss: 0.6930 \n",
      "Epoch 44/50\n",
      "\u001b[1m4/4\u001b[0m \u001b[32m━━━━━━━━━━━━━━━━━━━━\u001b[0m\u001b[37m\u001b[0m \u001b[1m0s\u001b[0m 18ms/step - loss: 0.6930\n",
      "Epoch 45/50\n",
      "\u001b[1m4/4\u001b[0m \u001b[32m━━━━━━━━━━━━━━━━━━━━\u001b[0m\u001b[37m\u001b[0m \u001b[1m0s\u001b[0m 16ms/step - loss: 0.6931\n",
      "Epoch 46/50\n",
      "\u001b[1m4/4\u001b[0m \u001b[32m━━━━━━━━━━━━━━━━━━━━\u001b[0m\u001b[37m\u001b[0m \u001b[1m0s\u001b[0m 24ms/step - loss: 0.6930 \n",
      "Epoch 47/50\n",
      "\u001b[1m4/4\u001b[0m \u001b[32m━━━━━━━━━━━━━━━━━━━━\u001b[0m\u001b[37m\u001b[0m \u001b[1m0s\u001b[0m 20ms/step - loss: 0.6929\n",
      "Epoch 48/50\n",
      "\u001b[1m4/4\u001b[0m \u001b[32m━━━━━━━━━━━━━━━━━━━━\u001b[0m\u001b[37m\u001b[0m \u001b[1m0s\u001b[0m 13ms/step - loss: 0.6930\n",
      "Epoch 49/50\n",
      "\u001b[1m4/4\u001b[0m \u001b[32m━━━━━━━━━━━━━━━━━━━━\u001b[0m\u001b[37m\u001b[0m \u001b[1m0s\u001b[0m 14ms/step - loss: 0.6932\n",
      "Epoch 50/50\n",
      "\u001b[1m4/4\u001b[0m \u001b[32m━━━━━━━━━━━━━━━━━━━━\u001b[0m\u001b[37m\u001b[0m \u001b[1m0s\u001b[0m 31ms/step - loss: 0.6931 \n"
     ]
    },
    {
     "data": {
      "text/plain": [
       "<keras.src.callbacks.history.History at 0x24f5684fe00>"
      ]
     },
     "execution_count": 48,
     "metadata": {},
     "output_type": "execute_result"
    }
   ],
   "source": [
    "model.fit(df.iloc[:,0:-1].values,df['placed'].values,epochs=50,verbose=1,batch_size=1)"
   ]
  },
  {
   "cell_type": "code",
   "execution_count": null,
   "id": "4aa5d5a1-0c10-4aeb-87e4-20eddd43a22e",
   "metadata": {},
   "outputs": [],
   "source": []
  }
 ],
 "metadata": {
  "kernelspec": {
   "display_name": "Python 3 (ipykernel)",
   "language": "python",
   "name": "python3"
  },
  "language_info": {
   "codemirror_mode": {
    "name": "ipython",
    "version": 3
   },
   "file_extension": ".py",
   "mimetype": "text/x-python",
   "name": "python",
   "nbconvert_exporter": "python",
   "pygments_lexer": "ipython3",
   "version": "3.13.2"
  }
 },
 "nbformat": 4,
 "nbformat_minor": 5
}
